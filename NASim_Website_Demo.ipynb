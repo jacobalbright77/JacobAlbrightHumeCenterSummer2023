{
 "cells": [
  {
   "cell_type": "markdown",
   "metadata": {},
   "source": [
    "Tutorial: Starting a NASim Environment: https://networkattacksimulator.readthedocs.io/en/latest/tutorials/loading.html#environment-settings\n",
    "\n",
    "\n",
    "The three optional arguments control the environment modes:\n",
    "- fully_obs: The observability mode of environment, if True then uses fully observable mode, otherwise is partially observable (default=False)\n",
    "- flat_actions: If true then uses a flat action space, otherwise will uses a parameterised action space (default=True).\n",
    "- flat_obs: If true then uses a 1D observation space, otherwise uses a 2D observation space (default=True)"
   ]
  },
  {
   "cell_type": "code",
   "execution_count": 2,
   "metadata": {},
   "outputs": [
    {
     "name": "stdout",
     "output_type": "stream",
     "text": [
      "1.24.3\n",
      "0.28.1\n",
      "3.1\n",
      "3.7.0\n",
      "3.7.1\n"
     ]
    }
   ],
   "source": [
    "import numpy\n",
    "print(numpy.__version__) #updated to 1.23.4 > 1.18\n",
    "\n",
    "import gymnasium\n",
    "print(gymnasium.__version__) #updated to 0.28.1 > 0.17\n",
    "\n",
    "#pyYaml is version 6.0\n",
    "\n",
    "import networkx\n",
    "print(networkx.__version__) #updated to 2.8.7 > 2.4\n",
    "\n",
    "import prettytable\n",
    "print(prettytable.__version__) #updated to 3.7.0 > 0.7.2\n",
    "\n",
    "import matplotlib\n",
    "print(matplotlib.__version__) #updated to 3.7.1 (shown in console with pip show matplotlib) > 3.1.3\n",
    "\n"
   ]
  },
  {
   "cell_type": "code",
   "execution_count": 3,
   "metadata": {},
   "outputs": [],
   "source": [
    "#Making an existing scenario\n",
    "\n",
    "import gymnasium\n",
    "\n",
    "import nasim\n",
    "env = nasim.make_benchmark(\"tiny\")\n",
    "#env1 = nasim.make_benchmark(\"tiny\", rendermode=\"human\") --> Couldn't get to work\n",
    "\n",
    "#Loading a scenario from a YAML file\n",
    "env2 = nasim.load(\"/Users/jacobalbright/Documents/GitHub/JacobPersonalTest/small.yaml\")\n",
    "\n",
    "#To generate a new environment with 5 hosts running a possible 3 services:\n",
    "env3 = nasim.generate(5, 3)\n",
    "\n",
    "# pass in some other parameters (say the number of possible operating systems) can be passed in as keyword arguments:\n",
    "env4 = nasim.generate(5, 3, num_os=3)\n",
    "\n",
    "\n"
   ]
  },
  {
   "cell_type": "markdown",
   "metadata": {},
   "source": [
    "Starting using OpenAI Gymnasium\n",
    "- always import gymnasium as gym\n",
    "\n",
    "- naming convention when using gymnasium.make(): ScenarioName[PO][2D][VA]-vX\n",
    "    - ScenarioName is the name of the benchmark scenario in Camel Casing\n",
    "    - [PO] is optional and included if environment is in partially observable mode, otherwise fully observable mode if not included.\n",
    "    - [2D] is optional and included if environment is to return 2D observations, otherwise the environment returns 1D observations.\n",
    "    - [VA] is optional and specifies the environment is to accept Vector actions (parametrised actions), if it is not included the environment expects integer (flat) actions.\n",
    "    - vX is the environment version. Currently (as of version 0.10.0) all environments are on v0 (ALWAYS v0???)\n",
    "\n",
    "Default: Tiny-v0 means the ‘tiny’ benchmark scenario in fully observable mode with flat action-space and flat observation space\n",
    "\n",
    "Alternate: MediumPO2DVA-v0 means the ‘medium’ benchmark scenario in partially observable mode with parametrised action-space and 2D observation-space"
   ]
  },
  {
   "cell_type": "code",
   "execution_count": 16,
   "metadata": {},
   "outputs": [
    {
     "name": "stdout",
     "output_type": "stream",
     "text": [
      "Observation:\n",
      "+---------+------------------+------------------+-----------------+\n",
      "| Success | Connection Error | Permission Error | Undefined Error |\n",
      "+---------+------------------+------------------+-----------------+\n",
      "|  False  |      False       |      False       |      False      |\n",
      "+---------+------------------+------------------+-----------------+\n",
      "+---------+-------------+-----------+------------+-------+-----------------+--------+-------+-------+--------+\n",
      "| Address | Compromised | Reachable | Discovered | Value | Discovery Value | Access | linux |  ssh  | tomcat |\n",
      "+---------+-------------+-----------+------------+-------+-----------------+--------+-------+-------+--------+\n",
      "|  (1, 0) |    False    |    True   |    True    |  0.0  |       0.0       |  0.0   | False | False | False  |\n",
      "|  (0, 0) |    False    |   False   |   False    |  0.0  |       0.0       |  0.0   | False | False | False  |\n",
      "|  (0, 0) |    False    |   False   |   False    |  0.0  |       0.0       |  0.0   | False | False | False  |\n",
      "+---------+-------------+-----------+------------+-------+-----------------+--------+-------+-------+--------+\n"
     ]
    }
   ],
   "source": [
    "#testing rendering\n",
    "\n",
    "import gymnasium as gym\n",
    "env5 = gym.make(\"nasim:Tiny-v0\")\n",
    "\n",
    "# to specify render mode\n",
    "env6 = gym.make(\"nasim:TinyPO-v0\", render_mode=\"human\")\n",
    "\n",
    "env6.reset()\n",
    "# render the environment\n",
    "# (if render_mode=\"human\" is not passed during initialization this will do nothing)\n",
    "env6.render()"
   ]
  },
  {
   "cell_type": "code",
   "execution_count": 17,
   "metadata": {},
   "outputs": [
    {
     "name": "stdout",
     "output_type": "stream",
     "text": [
      "Observation:\n",
      "+---------+------------------+------------------+-----------------+\n",
      "| Success | Connection Error | Permission Error | Undefined Error |\n",
      "+---------+------------------+------------------+-----------------+\n",
      "|  False  |      False       |      False       |      False      |\n",
      "+---------+------------------+------------------+-----------------+\n",
      "+---------+-------------+-----------+------------+-------+-----------------+--------+-------+---------+-------+-------+-------+-------+-------+--------+---------+---------+\n",
      "| Address | Compromised | Reachable | Discovered | Value | Discovery Value | Access | linux | windows |  ssh  |  ftp  |  http | samba |  smtp | tomcat | daclsvc | schtask |\n",
      "+---------+-------------+-----------+------------+-------+-----------------+--------+-------+---------+-------+-------+-------+-------+-------+--------+---------+---------+\n",
      "|  (1, 0) |    False    |    True   |    True    |  0.0  |       0.0       |  0.0   | False |  False  | False | False | False | False | False | False  |  False  |  False  |\n",
      "|  (0, 0) |    False    |   False   |   False    |  0.0  |       0.0       |  0.0   | False |  False  | False | False | False | False | False | False  |  False  |  False  |\n",
      "|  (0, 0) |    False    |   False   |   False    |  0.0  |       0.0       |  0.0   | False |  False  | False | False | False | False | False | False  |  False  |  False  |\n",
      "|  (0, 0) |    False    |   False   |   False    |  0.0  |       0.0       |  0.0   | False |  False  | False | False | False | False | False | False  |  False  |  False  |\n",
      "|  (0, 0) |    False    |   False   |   False    |  0.0  |       0.0       |  0.0   | False |  False  | False | False | False | False | False | False  |  False  |  False  |\n",
      "|  (0, 0) |    False    |   False   |   False    |  0.0  |       0.0       |  0.0   | False |  False  | False | False | False | False | False | False  |  False  |  False  |\n",
      "|  (0, 0) |    False    |   False   |   False    |  0.0  |       0.0       |  0.0   | False |  False  | False | False | False | False | False | False  |  False  |  False  |\n",
      "|  (0, 0) |    False    |   False   |   False    |  0.0  |       0.0       |  0.0   | False |  False  | False | False | False | False | False | False  |  False  |  False  |\n",
      "|  (0, 0) |    False    |   False   |   False    |  0.0  |       0.0       |  0.0   | False |  False  | False | False | False | False | False | False  |  False  |  False  |\n",
      "|  (0, 0) |    False    |   False   |   False    |  0.0  |       0.0       |  0.0   | False |  False  | False | False | False | False | False | False  |  False  |  False  |\n",
      "|  (0, 0) |    False    |   False   |   False    |  0.0  |       0.0       |  0.0   | False |  False  | False | False | False | False | False | False  |  False  |  False  |\n",
      "|  (0, 0) |    False    |   False   |   False    |  0.0  |       0.0       |  0.0   | False |  False  | False | False | False | False | False | False  |  False  |  False  |\n",
      "|  (0, 0) |    False    |   False   |   False    |  0.0  |       0.0       |  0.0   | False |  False  | False | False | False | False | False | False  |  False  |  False  |\n",
      "|  (0, 0) |    False    |   False   |   False    |  0.0  |       0.0       |  0.0   | False |  False  | False | False | False | False | False | False  |  False  |  False  |\n",
      "|  (0, 0) |    False    |   False   |   False    |  0.0  |       0.0       |  0.0   | False |  False  | False | False | False | False | False | False  |  False  |  False  |\n",
      "|  (0, 0) |    False    |   False   |   False    |  0.0  |       0.0       |  0.0   | False |  False  | False | False | False | False | False | False  |  False  |  False  |\n",
      "+---------+-------------+-----------+------------+-------+-----------------+--------+-------+---------+-------+-------+-------+-------+-------+--------+---------+---------+\n"
     ]
    },
    {
     "name": "stderr",
     "output_type": "stream",
     "text": [
      "/Library/Frameworks/Python.framework/Versions/3.10/lib/python3.10/site-packages/gymnasium/utils/passive_env_checker.py:42: UserWarning: \u001b[33mWARN: A Box observation space has an unconventional shape (neither an image, nor a 1D vector). We recommend flattening the observation to have only a 1D vector or use a custom policy to properly process the data. Actual observation shape: (17, 27)\u001b[0m\n",
      "  logger.warn(\n"
     ]
    }
   ],
   "source": [
    "#testing rendering for larger/more complex network\n",
    "# to specify render mode\n",
    "env6 = gym.make(\"nasim:MediumPO2DVA-v0\", render_mode=\"human\")\n",
    "\n",
    "env6.reset()\n",
    "# render the environment\n",
    "# (if render_mode=\"human\" is not passed during initialization this will do nothing)\n",
    "env6.render()\n"
   ]
  },
  {
   "cell_type": "code",
   "execution_count": 18,
   "metadata": {},
   "outputs": [],
   "source": [
    "#The number of actions can be retrieved from the environment action_space attribute:\n",
    "#flat_actions = true by default\n",
    "\n",
    "thisenv = nasim.make_benchmark(\"tiny\")\n",
    "    # When flat_actions=True\n",
    "num_actions = thisenv.action_space.n\n",
    "\n",
    "    # When flat_actions=False\n",
    "#nvec_actions = thisenv.action_space.nvec\n",
    "\n",
    "#The shape of the observations can be retrieved from the environment observation_space attribute\n",
    "obs_shape = thisenv.observation_space.shape\n",
    "\n",
    "#Getting initial observation and resetting the environment using reset() function\n",
    "#o, info = env.reset()"
   ]
  },
  {
   "cell_type": "code",
   "execution_count": 19,
   "metadata": {},
   "outputs": [
    {
     "ename": "NameError",
     "evalue": "name 'AnAgent' is not defined",
     "output_type": "error",
     "traceback": [
      "\u001b[0;31m---------------------------------------------------------------------------\u001b[0m",
      "\u001b[0;31mNameError\u001b[0m                                 Traceback (most recent call last)",
      "Cell \u001b[0;32mIn [19], line 1\u001b[0m\n\u001b[0;32m----> 1\u001b[0m agent \u001b[38;5;241m=\u001b[39m \u001b[43mAnAgent\u001b[49m(\u001b[38;5;241m.\u001b[39m\u001b[38;5;241m.\u001b[39m\u001b[38;5;241m.\u001b[39m)\n\u001b[1;32m      3\u001b[0m o, info \u001b[38;5;241m=\u001b[39m env\u001b[38;5;241m.\u001b[39mreset()\n\u001b[1;32m      4\u001b[0m total_reward \u001b[38;5;241m=\u001b[39m \u001b[38;5;241m0\u001b[39m\n",
      "\u001b[0;31mNameError\u001b[0m: name 'AnAgent' is not defined"
     ]
    }
   ],
   "source": [
    "agent = AnAgent(...)\n",
    "\n",
    "o, info = env.reset()\n",
    "total_reward = 0\n",
    "done = False\n",
    "step_limit_reached = False\n",
    "while not done and not step_limit_reached:\n",
    "    a = agent.choose_action(o)\n",
    "    o, r, done, step_limit_reached, info = env.step(a)\n",
    "    total_reward += r\n",
    "\n",
    "print(\"Done\")\n",
    "print(\"Total reward =\", total_reward)"
   ]
  }
 ],
 "metadata": {
  "interpreter": {
   "hash": "aee8b7b246df8f9039afb4144a1f6fd8d2ca17a180786b69acc140d282b71a49"
  },
  "kernelspec": {
   "display_name": "Python 3.10.10 64-bit",
   "language": "python",
   "name": "python3"
  },
  "language_info": {
   "codemirror_mode": {
    "name": "ipython",
    "version": 3
   },
   "file_extension": ".py",
   "mimetype": "text/x-python",
   "name": "python",
   "nbconvert_exporter": "python",
   "pygments_lexer": "ipython3",
   "version": "3.10.10"
  },
  "orig_nbformat": 4
 },
 "nbformat": 4,
 "nbformat_minor": 2
}
