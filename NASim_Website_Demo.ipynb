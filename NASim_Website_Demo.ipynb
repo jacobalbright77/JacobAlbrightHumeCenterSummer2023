{
 "cells": [
  {
   "cell_type": "markdown",
   "metadata": {},
   "source": [
    "Tutorial: Starting a NASim Environment: https://networkattacksimulator.readthedocs.io/en/latest/tutorials/loading.html#environment-settings\n",
    "\n",
    "\n",
    "The three optional arguments control the environment modes:\n",
    "- fully_obs: The observability mode of environment, if True then uses fully observable mode, otherwise is partially observable (default=False)\n",
    "- flat_actions: If true then uses a flat action space, otherwise will uses a parameterised action space (default=True).\n",
    "- flat_obs: If true then uses a 1D observation space, otherwise uses a 2D observation space (default=True)"
   ]
  },
  {
   "cell_type": "code",
   "execution_count": 1,
   "metadata": {},
   "outputs": [
    {
     "name": "stdout",
     "output_type": "stream",
     "text": [
      "1.24.3\n",
      "0.28.1\n",
      "3.1\n",
      "3.7.0\n",
      "3.7.1\n"
     ]
    }
   ],
   "source": [
    "import numpy\n",
    "print(numpy.__version__) #updated to 1.23.4 > 1.18\n",
    "\n",
    "import gymnasium\n",
    "print(gymnasium.__version__) #updated to 0.28.1 > 0.17\n",
    "\n",
    "#pyYaml is version 6.0\n",
    "\n",
    "import networkx\n",
    "print(networkx.__version__) #updated to 2.8.7 > 2.4\n",
    "\n",
    "import prettytable\n",
    "print(prettytable.__version__) #updated to 3.7.0 > 0.7.2\n",
    "\n",
    "import matplotlib\n",
    "print(matplotlib.__version__) #updated to 3.7.1 (shown in console with pip show matplotlib) > 3.1.3\n",
    "\n"
   ]
  },
  {
   "cell_type": "code",
   "execution_count": 3,
   "metadata": {},
   "outputs": [],
   "source": [
    "#Making an existing scenario\n",
    "\n",
    "import gymnasium\n",
    "\n",
    "import nasim\n",
    "env = nasim.make_benchmark(\"tiny\")\n",
    "#env1 = nasim.make_benchmark(\"tiny\", rendermode=\"human\") --> Couldn't get to work\n",
    "\n",
    "#Loading a scenario from a YAML file\n",
    "env2 = nasim.load(\"/Users/jacobalbright/Documents/GitHub/JacobAlbrightHumeCenterSummer2023/small.yaml\")\n",
    "\n",
    "#To generate a new environment with 5 hosts running a possible 3 services:\n",
    "env3 = nasim.generate(5, 3)\n",
    "\n",
    "# pass in some other parameters (say the number of possible operating systems) can be passed in as keyword arguments:\n",
    "env4 = nasim.generate(5, 3, num_os=3)\n",
    "\n",
    "\n"
   ]
  },
  {
   "cell_type": "markdown",
   "metadata": {},
   "source": [
    "Starting using OpenAI Gymnasium\n",
    "- always import gymnasium as gym\n",
    "\n",
    "- naming convention when using gymnasium.make(): ScenarioName[PO][2D][VA]-vX\n",
    "    - ScenarioName is the name of the benchmark scenario in Camel Casing\n",
    "    - [PO] is optional and included if environment is in partially observable mode, otherwise fully observable mode if not included.\n",
    "    - [2D] is optional and included if environment is to return 2D observations, otherwise the environment returns 1D observations.\n",
    "    - [VA] is optional and specifies the environment is to accept Vector actions (parametrised actions), if it is not included the environment expects integer (flat) actions.\n",
    "    - vX is the environment version. Currently (as of version 0.10.0) all environments are on v0 (ALWAYS v0???)\n",
    "\n",
    "Default: Tiny-v0 means the ‘tiny’ benchmark scenario in fully observable mode with flat action-space and flat observation space\n",
    "\n",
    "Alternate: MediumPO2DVA-v0 means the ‘medium’ benchmark scenario in partially observable mode with parametrised action-space and 2D observation-space"
   ]
  },
  {
   "cell_type": "code",
   "execution_count": 9,
   "metadata": {},
   "outputs": [
    {
     "name": "stdout",
     "output_type": "stream",
     "text": [
      "Observation:\n",
      "+---------+------------------+------------------+-----------------+\n",
      "| Success | Connection Error | Permission Error | Undefined Error |\n",
      "+---------+------------------+------------------+-----------------+\n",
      "|  False  |      False       |      False       |      False      |\n",
      "+---------+------------------+------------------+-----------------+\n",
      "+---------+-------------+-----------+------------+-------+-----------------+--------+-------+-------+--------+\n",
      "| Address | Compromised | Reachable | Discovered | Value | Discovery Value | Access | linux |  ssh  | tomcat |\n",
      "+---------+-------------+-----------+------------+-------+-----------------+--------+-------+-------+--------+\n",
      "|  (1, 0) |    False    |    True   |    True    |  0.0  |       0.0       |  0.0   | False | False | False  |\n",
      "|  (0, 0) |    False    |   False   |   False    |  0.0  |       0.0       |  0.0   | False | False | False  |\n",
      "|  (0, 0) |    False    |   False   |   False    |  0.0  |       0.0       |  0.0   | False | False | False  |\n",
      "+---------+-------------+-----------+------------+-------+-----------------+--------+-------+-------+--------+\n"
     ]
    }
   ],
   "source": [
    "#testing rendering\n",
    "\n",
    "import gymnasium as gym\n",
    "env5 = gym.make(\"nasim:Tiny-v0\")\n",
    "\n",
    "# to specify render mode\n",
    "env6 = gym.make(\"nasim:TinyPO-v0\", render_mode=\"human\")\n",
    "\n",
    "env6.reset()\n",
    "# render the environment\n",
    "# (if render_mode=\"human\" is not passed during initialization this will do nothing)\n",
    "env6.render()"
   ]
  },
  {
   "cell_type": "code",
   "execution_count": 5,
   "metadata": {},
   "outputs": [
    {
     "name": "stdout",
     "output_type": "stream",
     "text": [
      "Observation:\n",
      "+---------+------------------+------------------+-----------------+\n",
      "| Success | Connection Error | Permission Error | Undefined Error |\n",
      "+---------+------------------+------------------+-----------------+\n",
      "|  False  |      False       |      False       |      False      |\n",
      "+---------+------------------+------------------+-----------------+\n",
      "+---------+-------------+-----------+------------+-------+-----------------+--------+-------+---------+-------+-------+-------+-------+-------+--------+---------+---------+\n",
      "| Address | Compromised | Reachable | Discovered | Value | Discovery Value | Access | linux | windows |  ssh  |  ftp  |  http | samba |  smtp | tomcat | daclsvc | schtask |\n",
      "+---------+-------------+-----------+------------+-------+-----------------+--------+-------+---------+-------+-------+-------+-------+-------+--------+---------+---------+\n",
      "|  (1, 0) |    False    |    True   |    True    |  0.0  |       0.0       |  0.0   | False |  False  | False | False | False | False | False | False  |  False  |  False  |\n",
      "|  (0, 0) |    False    |   False   |   False    |  0.0  |       0.0       |  0.0   | False |  False  | False | False | False | False | False | False  |  False  |  False  |\n",
      "|  (0, 0) |    False    |   False   |   False    |  0.0  |       0.0       |  0.0   | False |  False  | False | False | False | False | False | False  |  False  |  False  |\n",
      "|  (0, 0) |    False    |   False   |   False    |  0.0  |       0.0       |  0.0   | False |  False  | False | False | False | False | False | False  |  False  |  False  |\n",
      "|  (0, 0) |    False    |   False   |   False    |  0.0  |       0.0       |  0.0   | False |  False  | False | False | False | False | False | False  |  False  |  False  |\n",
      "|  (0, 0) |    False    |   False   |   False    |  0.0  |       0.0       |  0.0   | False |  False  | False | False | False | False | False | False  |  False  |  False  |\n",
      "|  (0, 0) |    False    |   False   |   False    |  0.0  |       0.0       |  0.0   | False |  False  | False | False | False | False | False | False  |  False  |  False  |\n",
      "|  (0, 0) |    False    |   False   |   False    |  0.0  |       0.0       |  0.0   | False |  False  | False | False | False | False | False | False  |  False  |  False  |\n",
      "|  (0, 0) |    False    |   False   |   False    |  0.0  |       0.0       |  0.0   | False |  False  | False | False | False | False | False | False  |  False  |  False  |\n",
      "|  (0, 0) |    False    |   False   |   False    |  0.0  |       0.0       |  0.0   | False |  False  | False | False | False | False | False | False  |  False  |  False  |\n",
      "|  (0, 0) |    False    |   False   |   False    |  0.0  |       0.0       |  0.0   | False |  False  | False | False | False | False | False | False  |  False  |  False  |\n",
      "|  (0, 0) |    False    |   False   |   False    |  0.0  |       0.0       |  0.0   | False |  False  | False | False | False | False | False | False  |  False  |  False  |\n",
      "|  (0, 0) |    False    |   False   |   False    |  0.0  |       0.0       |  0.0   | False |  False  | False | False | False | False | False | False  |  False  |  False  |\n",
      "|  (0, 0) |    False    |   False   |   False    |  0.0  |       0.0       |  0.0   | False |  False  | False | False | False | False | False | False  |  False  |  False  |\n",
      "|  (0, 0) |    False    |   False   |   False    |  0.0  |       0.0       |  0.0   | False |  False  | False | False | False | False | False | False  |  False  |  False  |\n",
      "|  (0, 0) |    False    |   False   |   False    |  0.0  |       0.0       |  0.0   | False |  False  | False | False | False | False | False | False  |  False  |  False  |\n",
      "+---------+-------------+-----------+------------+-------+-----------------+--------+-------+---------+-------+-------+-------+-------+-------+--------+---------+---------+\n"
     ]
    },
    {
     "name": "stderr",
     "output_type": "stream",
     "text": [
      "/Library/Frameworks/Python.framework/Versions/3.10/lib/python3.10/site-packages/gymnasium/utils/passive_env_checker.py:42: UserWarning: \u001b[33mWARN: A Box observation space has an unconventional shape (neither an image, nor a 1D vector). We recommend flattening the observation to have only a 1D vector or use a custom policy to properly process the data. Actual observation shape: (17, 27)\u001b[0m\n",
      "  logger.warn(\n"
     ]
    }
   ],
   "source": [
    "#testing rendering for larger/more complex network\n",
    "# to specify render mode\n",
    "env6 = gym.make(\"nasim:MediumPO2DVA-v0\", render_mode=\"human\")\n",
    "\n",
    "env6.reset()\n",
    "# render the environment\n",
    "# (if render_mode=\"human\" is not passed during initialization this will do nothing)\n",
    "env6.render()\n"
   ]
  },
  {
   "cell_type": "code",
   "execution_count": 6,
   "metadata": {},
   "outputs": [],
   "source": [
    "#The number of actions can be retrieved from the environment action_space attribute:\n",
    "#flat_actions = true by default\n",
    "\n",
    "thisenv = nasim.make_benchmark(\"tiny\")\n",
    "    # When flat_actions=True\n",
    "num_actions = thisenv.action_space.n\n",
    "\n",
    "    # When flat_actions=False\n",
    "#nvec_actions = thisenv.action_space.nvec\n",
    "\n",
    "#The shape of the observations can be retrieved from the environment observation_space attribute\n",
    "obs_shape = thisenv.observation_space.shape\n",
    "\n",
    "#Getting initial observation and resetting the environment using reset() function\n",
    "#o, info = env.reset()"
   ]
  },
  {
   "cell_type": "markdown",
   "metadata": {},
   "source": [
    "Example Agent:\n",
    "\n",
    "agent = AnAgent(...)\n",
    "\n",
    "o, info = env.reset()\n",
    "total_reward = 0\n",
    "done = False\n",
    "step_limit_reached = False\n",
    "while not done and not step_limit_reached:\n",
    "    a = agent.choose_action(o)\n",
    "    o, r, done, step_limit_reached, info = env.step(a)\n",
    "    total_reward += r\n",
    "\n",
    "print(\"Done\")\n",
    "print(\"Total reward =\", total_reward)"
   ]
  },
  {
   "cell_type": "code",
   "execution_count": 11,
   "metadata": {},
   "outputs": [
    {
     "name": "stderr",
     "output_type": "stream",
     "text": [
      "usage: ipykernel_launcher.py [-h] [-s SEED] [-o] [-p] [-f] env_name\n",
      "ipykernel_launcher.py: error: the following arguments are required: env_name\n"
     ]
    },
    {
     "ename": "SystemExit",
     "evalue": "2",
     "output_type": "error",
     "traceback": [
      "An exception has occurred, use %tb to see the full traceback.\n",
      "\u001b[0;31mSystemExit\u001b[0m\u001b[0;31m:\u001b[0m 2\n"
     ]
    }
   ],
   "source": [
    "#Brute Force Example Agent:\n",
    "\n",
    "\"\"\"An bruteforce agent that repeatedly cycles through all available actions in\n",
    "order.\n",
    "\n",
    "To run 'tiny' benchmark scenario with default settings, run the following from\n",
    "the nasim/agents dir:\n",
    "\n",
    "$ python bruteforce_agent.py tiny\n",
    "\n",
    "This will run the agent and display progress and final results to stdout.\n",
    "\n",
    "To see available running arguments:\n",
    "\n",
    "$ python bruteforce_agent.py --help\n",
    "\"\"\"\n",
    "\n",
    "from itertools import product\n",
    "\n",
    "import nasim\n",
    "\n",
    "LINE_BREAK = \"-\"*60\n",
    "\n",
    "\n",
    "def run_bruteforce_agent(env, step_limit=1e6, verbose=True):\n",
    "    \"\"\"Run bruteforce agent on nasim environment.\n",
    "\n",
    "    Parameters\n",
    "    ----------\n",
    "    env : nasim.NASimEnv\n",
    "        the nasim environment to run agent on\n",
    "    step_limit : int, optional\n",
    "        the maximum number of steps to run agent for (default=1e6)\n",
    "    verbose : bool, optional\n",
    "        whether to print out progress messages or not (default=True)\n",
    "\n",
    "    Returns\n",
    "    -------\n",
    "    int\n",
    "        timesteps agent ran for\n",
    "    float\n",
    "        the total reward recieved by agent\n",
    "    bool\n",
    "        whether the goal was reached or not\n",
    "    \"\"\"\n",
    "    if verbose:\n",
    "        print(LINE_BREAK)\n",
    "        print(\"STARTING EPISODE\")\n",
    "        print(LINE_BREAK)\n",
    "        print(\"t: Reward\")\n",
    "\n",
    "    env.reset()\n",
    "    total_reward = 0\n",
    "    done = False\n",
    "    env_step_limit_reached = False\n",
    "    steps = 0\n",
    "    cycle_complete = False\n",
    "\n",
    "    if env.flat_actions:\n",
    "        act = 0\n",
    "    else:\n",
    "        act_iter = product(*[range(n) for n in env.action_space.nvec])\n",
    "\n",
    "    while not done and not env_step_limit_reached and steps < step_limit:\n",
    "        if env.flat_actions:\n",
    "            act = (act + 1) % env.action_space.n\n",
    "            cycle_complete = (steps > 0 and act == 0)\n",
    "        else:\n",
    "            try:\n",
    "                act = next(act_iter)\n",
    "                cycle_complete = False\n",
    "            except StopIteration:\n",
    "                act_iter = product(*[range(n) for n in env.action_space.nvec])\n",
    "                act = next(act_iter)\n",
    "                cycle_complete = True\n",
    "\n",
    "        _, rew, done, env_step_limit_reached, _ = env.step(act)\n",
    "        total_reward += rew\n",
    "\n",
    "        if cycle_complete and verbose:\n",
    "            print(f\"{steps}: {total_reward}\")\n",
    "        steps += 1\n",
    "\n",
    "    if done and verbose:\n",
    "        print(LINE_BREAK)\n",
    "        print(\"EPISODE FINISHED\")\n",
    "        print(LINE_BREAK)\n",
    "        print(f\"Goal reached = {env.goal_reached()}\")\n",
    "        print(f\"Total steps = {steps}\")\n",
    "        print(f\"Total reward = {total_reward}\")\n",
    "    elif verbose:\n",
    "        print(LINE_BREAK)\n",
    "        print(\"STEP LIMIT REACHED\")\n",
    "        print(LINE_BREAK)\n",
    "\n",
    "    if done:\n",
    "        done = env.goal_reached()\n",
    "\n",
    "    return steps, total_reward, done\n",
    "\n",
    "\n",
    "if __name__ == \"__main__\":\n",
    "    import argparse\n",
    "    parser = argparse.ArgumentParser()\n",
    "    parser.add_argument(\"env_name\", type=str, help=\"benchmark scenario name\")\n",
    "    parser.add_argument(\"-s\", \"--seed\", type=int, default=0,\n",
    "                        help=\"random seed\")\n",
    "    parser.add_argument(\"-o\", \"--partially_obs\", action=\"store_true\",\n",
    "                        help=\"Partially Observable Mode\")\n",
    "    parser.add_argument(\"-p\", \"--param_actions\", action=\"store_true\",\n",
    "                        help=\"Use Parameterised action space\")\n",
    "    parser.add_argument(\"-f\", \"--box_obs\", action=\"store_true\",\n",
    "                        help=\"Use 2D observation space\")\n",
    "    args = parser.parse_args()\n",
    "\n",
    "    nasimenv = nasim.make_benchmark(\n",
    "        args.env_name,\n",
    "        args.seed,\n",
    "        not args.partially_obs,\n",
    "        not args.param_actions,\n",
    "        not args.box_obs\n",
    "    )\n",
    "    if not args.param_actions:\n",
    "        print(nasimenv.action_space.n)\n",
    "    else:\n",
    "        print(nasimenv.action_space.nvec)\n",
    "    run_bruteforce_agent(nasimenv)\n"
   ]
  }
 ],
 "metadata": {
  "interpreter": {
   "hash": "aee8b7b246df8f9039afb4144a1f6fd8d2ca17a180786b69acc140d282b71a49"
  },
  "kernelspec": {
   "display_name": "Python 3.10.10 64-bit",
   "language": "python",
   "name": "python3"
  },
  "language_info": {
   "codemirror_mode": {
    "name": "ipython",
    "version": 3
   },
   "file_extension": ".py",
   "mimetype": "text/x-python",
   "name": "python",
   "nbconvert_exporter": "python",
   "pygments_lexer": "ipython3",
   "version": "3.10.10"
  },
  "orig_nbformat": 4
 },
 "nbformat": 4,
 "nbformat_minor": 2
}
